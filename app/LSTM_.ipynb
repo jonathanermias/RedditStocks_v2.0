{
  "cells": [
    {
      "cell_type": "code",
      "execution_count": 19,
      "metadata": {
        "id": "5FiFgvWIr8Fs"
      },
      "outputs": [],
      "source": [
        "import numpy as np\n",
        "import pandas as pd\n",
        "from sklearn.model_selection import train_test_split\n",
        "from sklearn.preprocessing import MinMaxScaler\n",
        "from sklearn.metrics import accuracy_score\n",
        "import tensorflow as tf\n",
        "from tensorflow.keras.models import Sequential\n",
        "from tensorflow.keras.layers import LSTM, Dense, Dropout\n",
        "import matplotlib.pyplot as plt\n",
        "from keras.models import Sequential\n",
        "from keras.layers import LSTM, Dropout, Dense, Input\n",
        "import torch\n",
        "device = torch.device(\"mps\" if torch.backends.mps.is_available() else \"cpu\")"
      ]
    },
    {
      "cell_type": "code",
      "execution_count": 20,
      "metadata": {
        "id": "j-ipSqBAr-FZ"
      },
      "outputs": [],
      "source": [
        "data = pd.read_csv(\"../data/00/merged/sentiment_stock_merged_AAPL.csv\", parse_dates=[\"date_only\", \"date_only_stock\"])\n",
        "data = data.sort_values(\"date_only\")\n"
      ]
    },
    {
      "cell_type": "code",
      "execution_count": 21,
      "metadata": {
        "colab": {
          "base_uri": "https://localhost:8080/"
        },
        "id": "Mh_ki-fjyVRo",
        "outputId": "9d7574ed-e355-4f46-92e9-8d6b13f42f1d"
      },
      "outputs": [
        {
          "name": "stdout",
          "output_type": "stream",
          "text": [
            "   date_only  posts_per_day  avg_sentiment  avg_sentiment_normalized  \\\n",
            "0 2024-09-09              4       0.021952                 51.097609   \n",
            "1 2024-09-12              2      -0.242334                 37.883323   \n",
            "2 2024-09-14              1       0.246950                 62.347500   \n",
            "3 2024-09-16              1      -0.214463                 39.276875   \n",
            "4 2024-09-18              3      -0.156211                 42.189454   \n",
            "\n",
            "  date_only_stock ticker        Open        High         Low       Close  \\\n",
            "0      2024-09-10   AAPL  218.919998  221.479996  216.729996  220.110001   \n",
            "1      2024-09-13   AAPL  223.580002  224.039993  221.910004  222.500000   \n",
            "2             NaT    NaN         NaN         NaN         NaN         NaN   \n",
            "3      2024-09-17   AAPL  215.750000  216.899994  214.500000  216.789993   \n",
            "4      2024-09-19   AAPL  224.990005  229.820007  224.630005  228.869995   \n",
            "\n",
            "       Volume  target  \n",
            "0  51591000.0       1  \n",
            "1  36766600.0       0  \n",
            "2         NaN       0  \n",
            "3  45519300.0       1  \n",
            "4  66781300.0       0  \n"
          ]
        }
      ],
      "source": [
        "data[\"Tomorrow\"] = data[\"Close\"].shift(-1)\n",
        "data[\"target\"] = (data[\"Tomorrow\"] > data[\"Close\"]).astype(int)\n",
        "data = data.drop(\"Tomorrow\", axis=1)\n",
        "print(data.head())"
      ]
    },
    {
      "cell_type": "code",
      "execution_count": 22,
      "metadata": {
        "colab": {
          "base_uri": "https://localhost:8080/"
        },
        "id": "fpVnsZ3IsBuk",
        "outputId": "07df809f-6671-433a-aff1-e30f3e79dd9b"
      },
      "outputs": [
        {
          "name": "stdout",
          "output_type": "stream",
          "text": [
            "   date_only  avg_sentiment       Close date_only_stock  target\n",
            "0 2024-09-09       0.021952  220.110001      2024-09-10       1\n",
            "1 2024-09-12      -0.242334  222.500000      2024-09-13       0\n",
            "2 2024-09-16      -0.214463  216.789993      2024-09-17       1\n",
            "3 2024-09-18      -0.156211  228.869995      2024-09-19       0\n",
            "4 2024-09-19      -0.229400  228.199997      2024-09-20       0\n"
          ]
        }
      ],
      "source": [
        "\n",
        "data = data[['date_only', 'avg_sentiment', 'Close', 'date_only_stock', 'target']].dropna().reset_index(drop=True)\n",
        "print(data.head())\n"
      ]
    },
    {
      "cell_type": "code",
      "execution_count": 23,
      "metadata": {
        "id": "FALkyVfusHDd"
      },
      "outputs": [],
      "source": [
        "scaler = MinMaxScaler()\n",
        "data['avg_sentiment_scaled'] = scaler.fit_transform(data[['avg_sentiment']])"
      ]
    },
    {
      "cell_type": "code",
      "execution_count": 24,
      "metadata": {
        "id": "Cc_3CfJhtW9I"
      },
      "outputs": [],
      "source": [
        "window_size = 5\n",
        "X = []\n",
        "y = []\n",
        "\n",
        "for i in range(window_size, len(data) - 1):\n",
        "    features = data[['avg_sentiment_scaled', 'target']].iloc[i - window_size:i].values  # Include both features\n",
        "    X.append(features)\n",
        "    y.append(int(data['Close'].iloc[i + 1] > data['Close'].iloc[i]))\n",
        "\n",
        "X = np.array(X)\n",
        "X = X.reshape(-1, window_size, 2)  # Reshape for LSTM with 2 features\n",
        "y = np.array(y)"
      ]
    },
    {
      "cell_type": "code",
      "execution_count": 25,
      "metadata": {
        "id": "x0_JXHx1sOaz"
      },
      "outputs": [],
      "source": [
        "model = Sequential()\n",
        "model.add(Input(shape=(window_size, 2)))  # Define input shape here\n",
        "model.add(LSTM(units=50, return_sequences=False))\n",
        "model.add(Dropout(0.2))\n",
        "model.add(Dense(units=1, activation='sigmoid'))\n",
        "\n",
        "model.compile(optimizer='adam', loss='binary_crossentropy', metrics=['accuracy'])\n"
      ]
    },
    {
      "cell_type": "code",
      "execution_count": 26,
      "metadata": {
        "id": "0sA86M6SsIQz"
      },
      "outputs": [],
      "source": [
        "#data['target'] = (data['Close'].shift(-1) > data['Close']).astype(int)\n",
        "#print(data['target'].head)\n",
        "#gave accuracy of Prediction Accuracy: 35.71%"
      ]
    },
    {
      "cell_type": "code",
      "execution_count": 27,
      "metadata": {
        "colab": {
          "base_uri": "https://localhost:8080/"
        },
        "id": "dleJQ0K8sJRs",
        "outputId": "153e69d5-a3b5-4f7a-c17f-fddc003a51d3"
      },
      "outputs": [
        {
          "name": "stdout",
          "output_type": "stream",
          "text": [
            "Shape of X_train: (37, 5, 2)\n",
            "Epoch 1/20\n",
            "3/3 [==============================] - 1s 3ms/step - loss: 0.6914 - accuracy: 0.5135\n",
            "Epoch 2/20\n",
            "3/3 [==============================] - 0s 3ms/step - loss: 0.6811 - accuracy: 0.5135\n",
            "Epoch 3/20\n",
            "3/3 [==============================] - 0s 3ms/step - loss: 0.6820 - accuracy: 0.5676\n",
            "Epoch 4/20\n",
            "3/3 [==============================] - 0s 3ms/step - loss: 0.6760 - accuracy: 0.5676\n",
            "Epoch 5/20\n",
            "3/3 [==============================] - 0s 3ms/step - loss: 0.6774 - accuracy: 0.5676\n",
            "Epoch 6/20\n",
            "3/3 [==============================] - 0s 3ms/step - loss: 0.6718 - accuracy: 0.5676\n",
            "Epoch 7/20\n",
            "3/3 [==============================] - 0s 2ms/step - loss: 0.6721 - accuracy: 0.5676\n",
            "Epoch 8/20\n",
            "3/3 [==============================] - 0s 2ms/step - loss: 0.6636 - accuracy: 0.5676\n",
            "Epoch 9/20\n",
            "3/3 [==============================] - 0s 2ms/step - loss: 0.6669 - accuracy: 0.5676\n",
            "Epoch 10/20\n",
            "3/3 [==============================] - 0s 2ms/step - loss: 0.6640 - accuracy: 0.5676\n",
            "Epoch 11/20\n",
            "3/3 [==============================] - 0s 2ms/step - loss: 0.6662 - accuracy: 0.5676\n",
            "Epoch 12/20\n",
            "3/3 [==============================] - 0s 2ms/step - loss: 0.6622 - accuracy: 0.5676\n",
            "Epoch 13/20\n",
            "3/3 [==============================] - 0s 3ms/step - loss: 0.6592 - accuracy: 0.5676\n",
            "Epoch 14/20\n",
            "3/3 [==============================] - 0s 2ms/step - loss: 0.6620 - accuracy: 0.5676\n",
            "Epoch 15/20\n",
            "3/3 [==============================] - 0s 2ms/step - loss: 0.6589 - accuracy: 0.5676\n",
            "Epoch 16/20\n",
            "3/3 [==============================] - 0s 2ms/step - loss: 0.6555 - accuracy: 0.5676\n",
            "Epoch 17/20\n",
            "3/3 [==============================] - 0s 2ms/step - loss: 0.6568 - accuracy: 0.5676\n",
            "Epoch 18/20\n",
            "3/3 [==============================] - 0s 2ms/step - loss: 0.6509 - accuracy: 0.5676\n",
            "Epoch 19/20\n",
            "3/3 [==============================] - 0s 2ms/step - loss: 0.6551 - accuracy: 0.5676\n",
            "Epoch 20/20\n",
            "3/3 [==============================] - 0s 2ms/step - loss: 0.6525 - accuracy: 0.5676\n"
          ]
        },
        {
          "data": {
            "text/plain": [
              "<keras.src.callbacks.History at 0x3175499a0>"
            ]
          },
          "execution_count": 27,
          "metadata": {},
          "output_type": "execute_result"
        }
      ],
      "source": [
        "X_temp, X_test, y_temp, y_test = train_test_split(X, y, test_size=0.2, shuffle=False)\n",
        "X_train, X_val, y_train, y_val = train_test_split(X_temp, y_temp, test_size=0.25, shuffle=False)  # 0.25 of 0.8 = 0.2\n",
        "# Print the shape of X_train\n",
        "print(\"Shape of X_train:\", X_train.shape)\n",
        "\n",
        "model.fit(X_train, y_train, epochs=20, batch_size=16, verbose=1)  # X_train is consistent with input_shape"
      ]
    },
    {
      "cell_type": "code",
      "execution_count": 28,
      "metadata": {
        "colab": {
          "base_uri": "https://localhost:8080/",
          "height": 581
        },
        "id": "E2rUwO2KsVZD",
        "outputId": "edba8ae2-9a7a-4463-f02d-5ef741f278ca"
      },
      "outputs": [
        {
          "name": "stdout",
          "output_type": "stream",
          "text": [
            "1/1 [==============================] - 0s 152ms/step\n"
          ]
        },
        {
          "data": {
            "image/png": "[encoded data removed]",
            "text/plain": [
              "<Figure size 1000x600 with 1 Axes>"
            ]
          },
          "metadata": {},
          "output_type": "display_data"
        }
      ],
      "source": [
        "# prompt: generate a plot of predicted vs actual stock\n",
        "\n",
        "import matplotlib.pyplot as plt\n",
        "y_pred = model.predict(X_test)\n",
        "y_pred = (y_pred > 0.5).astype(int)\n",
        "\n",
        "plt.figure(figsize=(10, 6))\n",
        "plt.plot(y_test, label='Actual')\n",
        "plt.plot(y_pred, label='Predicted')\n",
        "plt.xlabel('Time')\n",
        "plt.ylabel('Stock Price Movement (1: Up, 0: Down)')\n",
        "plt.title('Predicted vs Actual Stock Price Movement')\n",
        "plt.legend()\n",
        "plt.show()\n"
      ]
    },
    {
      "cell_type": "code",
      "execution_count": 29,
      "metadata": {
        "colab": {
          "base_uri": "https://localhost:8080/"
        },
        "id": "EYFfpDEd1yfG",
        "outputId": "8d2b8325-1729-42f3-a056-75eeb0dab6ac"
      },
      "outputs": [
        {
          "name": "stdout",
          "output_type": "stream",
          "text": [
            "1/1 [==============================] - 0s 10ms/step\n",
            "Prediction Accuracy: 30.77%\n"
          ]
        }
      ],
      "source": [
        "# prompt: print accuracy\n",
        "\n",
        "y_pred = (model.predict(X_test) > 0.5).astype(\"int32\")\n",
        "accuracy = accuracy_score(y_test, y_pred)\n",
        "print(f\"Prediction Accuracy: {accuracy * 100:.2f}%\")\n"
      ]
    }
  ],
  "metadata": {
    "colab": {
      "provenance": []
    },
    "kernelspec": {
      "display_name": "RedditStocksV2",
      "language": "python",
      "name": "python3"
    },
    "language_info": {
      "codemirror_mode": {
        "name": "ipython",
        "version": 3
      },
      "file_extension": ".py",
      "mimetype": "text/x-python",
      "name": "python",
      "nbconvert_exporter": "python",
      "pygments_lexer": "ipython3",
      "version": "3.8.20"
    }
  },
  "nbformat": 4,
  "nbformat_minor": 0
}
