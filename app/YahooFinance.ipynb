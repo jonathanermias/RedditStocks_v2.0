{
 "cells": [
  {
   "cell_type": "code",
   "execution_count": 8,
   "metadata": {},
   "outputs": [],
   "source": [
    "import yfinance as yf\n",
    "import pandas as pd\n",
    "from datetime import datetime\n"
   ]
  },
  {
   "cell_type": "code",
   "execution_count": 9,
   "metadata": {},
   "outputs": [],
   "source": [
    "input_file = '../data/redditsentiment.csv'\n",
    "reddit_data = pd.read_csv(input_file)\n",
    "reddit_data['date_only'] = pd.to_datetime(reddit_data['date_only'])"
   ]
  },
  {
   "cell_type": "code",
   "execution_count": 10,
   "metadata": {},
   "outputs": [],
   "source": [
    "def scrape_stock_data(tickers, start_date, end_date):\n",
    "    stock_data=[]\n",
    "    for ticker in tickers:\n",
    "        try:\n",
    "            data=yf.download(ticker, start_date, end=end_date)\n",
    "            if not data.empty:\n",
    "                data['ticker']=ticker\n",
    "                \n",
    "                data['date_only'] = data.index.date\n",
    "\n",
    "                data.columns = [f\"{col[0]}_{col[1]}\" if isinstance(col, tuple) else col for col in data.columns]\n",
    "\n",
    "                data.rename(columns={col: 'date_only' if 'date_only' in col else col for col in data.columns}, inplace=True)\n",
    "                print(f\"Date_only column added for {ticker}.columns: {data.columns}\")\n",
    "                stock_data.append(data)\n",
    "            else:\n",
    "                print(f\"No data for {ticker}\")\n",
    "        \n",
    "        except Exception as e:\n",
    "            print(f\"Error for {ticker}: {e}\")\n",
    "    \n",
    "    if stock_data:\n",
    "        combined_data = pd.concat(stock_data, ignore_index=True)\n",
    "        print(f\"Combined stock data columns: {combined_data.columns}\")\n",
    "    else:\n",
    "        combined_data = pd.DataFrame()  \n",
    "        print(\"No stock data fetched.\")\n",
    "\n",
    "    \n",
    "    if 'date_only' in combined_data.columns:\n",
    "        combined_data['date_only'] = pd.to_datetime(combined_data['date_only'])\n",
    "    else:\n",
    "        print(\"Warning: 'date_only' column not found in combined stock data.\")\n",
    "\n",
    "    return combined_data\n"
   ]
  },
  {
   "cell_type": "code",
   "execution_count": 11,
   "metadata": {},
   "outputs": [
    {
     "name": "stderr",
     "output_type": "stream",
     "text": [
      "[*********************100%***********************]  1 of 1 completed\n",
      "[*********************100%***********************]  1 of 1 completed\n"
     ]
    },
    {
     "name": "stdout",
     "output_type": "stream",
     "text": [
      "Date_only column added for TSLA.columns: Index(['Close_TSLA', 'High_TSLA', 'Low_TSLA', 'Open_TSLA', 'Volume_TSLA',\n",
      "       'ticker_', 'date_only'],\n",
      "      dtype='object')\n",
      "Date_only column added for GME.columns: Index(['Close_GME', 'High_GME', 'Low_GME', 'Open_GME', 'Volume_GME', 'ticker_',\n",
      "       'date_only'],\n",
      "      dtype='object')\n"
     ]
    },
    {
     "name": "stderr",
     "output_type": "stream",
     "text": [
      "[*********************100%***********************]  1 of 1 completed\n",
      "[*********************100%***********************]  1 of 1 completed"
     ]
    },
    {
     "name": "stdout",
     "output_type": "stream",
     "text": [
      "Date_only column added for AAPL.columns: Index(['Close_AAPL', 'High_AAPL', 'Low_AAPL', 'Open_AAPL', 'Volume_AAPL',\n",
      "       'ticker_', 'date_only'],\n",
      "      dtype='object')\n",
      "Date_only column added for NVDA.columns: Index(['Close_NVDA', 'High_NVDA', 'Low_NVDA', 'Open_NVDA', 'Volume_NVDA',\n",
      "       'ticker_', 'date_only'],\n",
      "      dtype='object')\n",
      "Combined stock data columns: Index(['Close_TSLA', 'High_TSLA', 'Low_TSLA', 'Open_TSLA', 'Volume_TSLA',\n",
      "       'ticker_', 'date_only', 'Close_GME', 'High_GME', 'Low_GME', 'Open_GME',\n",
      "       'Volume_GME', 'Close_AAPL', 'High_AAPL', 'Low_AAPL', 'Open_AAPL',\n",
      "       'Volume_AAPL', 'Close_NVDA', 'High_NVDA', 'Low_NVDA', 'Open_NVDA',\n",
      "       'Volume_NVDA'],\n",
      "      dtype='object')\n",
      "date_only column exists\n"
     ]
    },
    {
     "name": "stderr",
     "output_type": "stream",
     "text": [
      "\n"
     ]
    }
   ],
   "source": [
    "tickers = ['TSLA', 'GME', 'AAPL', 'NVDA']\n",
    "start_date = (datetime.now() - pd.Timedelta(days=365)).strftime('%Y-%m-%d')\n",
    "end_date = datetime.now().strftime('%Y-%m-%d')\n",
    "\n",
    "combined_reddit_stock = scrape_stock_data(tickers, start_date, end_date)\n",
    "if 'date_only' in combined_reddit_stock.columns:\n",
    "   print('date_only column exists')\n",
    "else:\n",
    "   print('date_only column does not exist')"
   ]
  },
  {
   "cell_type": "code",
   "execution_count": 12,
   "metadata": {},
   "outputs": [
    {
     "name": "stdout",
     "output_type": "stream",
     "text": [
      "merge succesful\n"
     ]
    }
   ],
   "source": [
    "stock_reddit_merge = pd.merge(reddit_data, combined_reddit_stock, on='date_only', how='inner')\n",
    "print('merge succesful')"
   ]
  },
  {
   "cell_type": "code",
   "execution_count": 13,
   "metadata": {},
   "outputs": [
    {
     "name": "stdout",
     "output_type": "stream",
     "text": [
      "output file created\n"
     ]
    }
   ],
   "source": [
    "stock_reddit_merge['created_day_before'] = stock_reddit_merge['created'].apply(\n",
    "    lambda x: (datetime.strptime(x.split(' ')[0], '%Y-%m-%d') - pd.Timedelta(days=1)).strftime('%Y-%m-%d')\n",
    ")\n",
    "stock_reddit_merge.drop(columns=['date_only', 'created'], inplace=True)\n",
    "output_file = '../data/stock_reddit_merge.csv'\n",
    "stock_reddit_merge.to_csv(output_file, index=False)\n",
    "print('output file created')"
   ]
  },
  {
   "cell_type": "code",
   "execution_count": 14,
   "metadata": {},
   "outputs": [
    {
     "ename": "SyntaxError",
     "evalue": "invalid syntax (744262733.py, line 5)",
     "output_type": "error",
     "traceback": [
      "\u001b[0;36m  Cell \u001b[0;32mIn[14], line 5\u001b[0;36m\u001b[0m\n\u001b[0;31m    Where he merged on yahoo finance, have it so it merges on date only as well as ticker_\u001b[0m\n\u001b[0m          ^\u001b[0m\n\u001b[0;31mSyntaxError\u001b[0m\u001b[0;31m:\u001b[0m invalid syntax\n"
     ]
    }
   ],
   "source": [
    "# Step 7: Output the final merged DataFrame to a CSV file, ready for modeling\n",
    "merged_df.to_csv('../data/stock_reddit_merge.csv', index=False)\n",
    "\n",
    "\n",
    "Where he merged on yahoo finance, have it so it merges on date only as well as ticker_ \n",
    "\n",
    "change reddit mention_tickers to ticker_\n"
   ]
  }
 ],
 "metadata": {
  "kernelspec": {
   "display_name": "Python 3",
   "language": "python",
   "name": "python3"
  },
  "language_info": {
   "codemirror_mode": {
    "name": "ipython",
    "version": 3
   },
   "file_extension": ".py",
   "mimetype": "text/x-python",
   "name": "python",
   "nbconvert_exporter": "python",
   "pygments_lexer": "ipython3",
   "version": "3.13.3"
  }
 },
 "nbformat": 4,
 "nbformat_minor": 2
}
