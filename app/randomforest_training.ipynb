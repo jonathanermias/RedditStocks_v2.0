{
 "cells": [
  {
   "cell_type": "code",
   "execution_count": 125,
   "metadata": {},
   "outputs": [
    {
     "name": "stdout",
     "output_type": "stream",
     "text": [
      "Using device: mps\n"
     ]
    }
   ],
   "source": [
    "import pandas as pd\n",
    "import numpy as np\n",
    "from sklearn.model_selection import train_test_split, GridSearchCV, cross_val_score, TimeSeriesSplit\n",
    "from sklearn.model_selection import RandomizedSearchCV\n",
    "from sklearn.ensemble import RandomForestClassifier\n",
    "from sklearn.metrics import (\n",
    "    accuracy_score, precision_score, recall_score,\n",
    "    confusion_matrix, classification_report\n",
    ")\n",
    "import torch\n",
    "\n",
    "device = torch.device(\"mps\" if torch.backends.mps.is_available() else \"cpu\")\n",
    "print(\"Using device:\", device)\n"
   ]
  },
  {
   "cell_type": "code",
   "execution_count": 126,
   "metadata": {},
   "outputs": [
    {
     "name": "stdout",
     "output_type": "stream",
     "text": [
      "Shape of data after loading: (89, 11)\n",
      "Columns in the dataset: ['date_only', 'posts_per_day', 'avg_sentiment', 'avg_sentiment_normalized', 'date_only_stock', 'ticker', 'Open', 'High', 'Low', 'Close', 'Volume']\n"
     ]
    }
   ],
   "source": [
    "data = pd.read_csv('../data/00/merged/sentiment_stock_merged_GME.csv')\n",
    "print('Shape of data after loading:', data.shape)\n",
    "print('Columns in the dataset:', data.columns.tolist())\n"
   ]
  },
  {
   "cell_type": "code",
   "execution_count": 127,
   "metadata": {},
   "outputs": [],
   "source": [
    "data['Movement'] = data.apply(lambda row: 'up' if row['Close'] > row['Open'] else 'down', axis=1)\n",
    "\n",
    "features = [\n",
    "    'date_only', 'posts_per_day', 'avg_sentiment', 'avg_sentiment_normalized',\n",
    "    'date_only_stock', 'ticker', 'Open', 'High', 'Low', 'Close', 'Volume', 'Movement'\n",
    "]\n",
    "missing = [col for col in features if col not in data.columns]\n",
    "if missing:\n",
    "    print(f'Missing required columns: {missing}')\n",
    "    raise SystemExit\n"
   ]
  },
  {
   "cell_type": "code",
   "execution_count": 128,
   "metadata": {},
   "outputs": [],
   "source": [
    "date_cols = ['date_only', 'date_only_stock']\n",
    "for col in date_cols:\n",
    "    data[col] = pd.to_datetime(data[col])\n",
    "    data[f'{col}_day']       = data[col].dt.day\n",
    "    data[f'{col}_month']     = data[col].dt.month\n",
    "    data[f'{col}_year']      = data[col].dt.year\n",
    "    data[f'{col}_dayofweek'] = data[col].dt.dayofweek\n"
   ]
  },
  {
   "cell_type": "code",
   "execution_count": 129,
   "metadata": {},
   "outputs": [
    {
     "name": "stdout",
     "output_type": "stream",
     "text": [
      "Numeric features to be used: ['posts_per_day', 'avg_sentiment', 'avg_sentiment_normalized', 'Open', 'High', 'Low', 'Close', 'Volume', 'date_only_day', 'date_only_month', 'date_only_year', 'date_only_dayofweek']\n",
      "X shape: (89, 12), y shape: (89,)\n"
     ]
    }
   ],
   "source": [
    "numeric_features = [\n",
    "    'posts_per_day', 'avg_sentiment', 'avg_sentiment_normalized',\n",
    "    'Open', 'High', 'Low', 'Close', 'Volume',\n",
    "    'date_only_day', 'date_only_month', 'date_only_year', 'date_only_dayofweek'\n",
    "]\n",
    "numeric_features = [c for c in numeric_features if c in data.columns]\n",
    "print(\"Numeric features to be used:\", numeric_features)\n",
    "\n",
    "X = data[numeric_features]\n",
    "y = data['Movement']\n",
    "print(f'X shape: {X.shape}, y shape: {y.shape}')\n"
   ]
  },
  {
   "cell_type": "code",
   "execution_count": 130,
   "metadata": {},
   "outputs": [
    {
     "name": "stdout",
     "output_type": "stream",
     "text": [
      "Remaining missing values per column:\n",
      " posts_per_day               0\n",
      "avg_sentiment               0\n",
      "avg_sentiment_normalized    0\n",
      "Open                        0\n",
      "High                        0\n",
      "Low                         0\n",
      "Close                       0\n",
      "Volume                      0\n",
      "date_only_day               0\n",
      "date_only_month             0\n",
      "date_only_year              0\n",
      "date_only_dayofweek         0\n",
      "dtype: int64\n"
     ]
    },
    {
     "name": "stderr",
     "output_type": "stream",
     "text": [
      "/var/folders/yx/r372mq11725b3qtfgx955zlr0000gn/T/ipykernel_45187/2985698186.py:2: SettingWithCopyWarning: \n",
      "A value is trying to be set on a copy of a slice from a DataFrame.\n",
      "Try using .loc[row_indexer,col_indexer] = value instead\n",
      "\n",
      "See the caveats in the documentation: https://pandas.pydata.org/pandas-docs/stable/user_guide/indexing.html#returning-a-view-versus-a-copy\n",
      "  X[col] = X[col].fillna(X[col].mean())\n"
     ]
    }
   ],
   "source": [
    "for col in numeric_features:\n",
    "    X[col] = X[col].fillna(X[col].mean())\n",
    "print('Remaining missing values per column:\\n', X.isnull().sum())\n"
   ]
  },
  {
   "cell_type": "code",
   "execution_count": 131,
   "metadata": {},
   "outputs": [],
   "source": [
    "X_train, X_test, y_train, y_test = train_test_split(\n",
    "    X, y, test_size=0.2, random_state=42\n",
    ")\n"
   ]
  },
  {
   "cell_type": "code",
   "execution_count": null,
   "metadata": {},
   "outputs": [
    {
     "name": "stdout",
     "output_type": "stream",
     "text": [
      "Starting randomized search...\n",
      "                                               params  mean_train_score  \\\n",
      "0   {'n_estimators': 1000, 'min_samples_split': 5,...          1.000000   \n",
      "1   {'n_estimators': 1000, 'min_samples_split': 5,...          0.865413   \n",
      "2   {'n_estimators': 500, 'min_samples_split': 2, ...          0.865584   \n",
      "3   {'n_estimators': 1000, 'min_samples_split': 5,...          0.815820   \n",
      "4   {'n_estimators': 1000, 'min_samples_split': 5,...          0.815820   \n",
      "5   {'n_estimators': 1000, 'min_samples_split': 5,...          1.000000   \n",
      "6   {'n_estimators': 500, 'min_samples_split': 5, ...          1.000000   \n",
      "7   {'n_estimators': 1000, 'min_samples_split': 2,...          1.000000   \n",
      "8   {'n_estimators': 1000, 'min_samples_split': 2,...          1.000000   \n",
      "9   {'n_estimators': 1000, 'min_samples_split': 2,...          0.865413   \n",
      "10  {'n_estimators': 1000, 'min_samples_split': 5,...          0.815820   \n",
      "11  {'n_estimators': 500, 'min_samples_split': 2, ...          0.826391   \n",
      "12  {'n_estimators': 500, 'min_samples_split': 10,...          0.958070   \n",
      "13  {'n_estimators': 1000, 'min_samples_split': 5,...          0.996667   \n",
      "14  {'n_estimators': 1000, 'min_samples_split': 2,...          0.865413   \n",
      "15  {'n_estimators': 500, 'min_samples_split': 5, ...          0.826391   \n",
      "16  {'n_estimators': 500, 'min_samples_split': 10,...          0.929566   \n",
      "17  {'n_estimators': 500, 'min_samples_split': 2, ...          1.000000   \n",
      "18  {'n_estimators': 500, 'min_samples_split': 10,...          0.929566   \n",
      "19  {'n_estimators': 500, 'min_samples_split': 2, ...          0.865584   \n",
      "20  {'n_estimators': 500, 'min_samples_split': 2, ...          1.000000   \n",
      "21  {'n_estimators': 500, 'min_samples_split': 10,...          0.865584   \n",
      "22  {'n_estimators': 1000, 'min_samples_split': 2,...          1.000000   \n",
      "23  {'n_estimators': 1000, 'min_samples_split': 2,...          1.000000   \n",
      "24  {'n_estimators': 500, 'min_samples_split': 5, ...          0.826391   \n",
      "25  {'n_estimators': 500, 'min_samples_split': 5, ...          1.000000   \n",
      "26  {'n_estimators': 1000, 'min_samples_split': 10...          0.815820   \n",
      "27  {'n_estimators': 500, 'min_samples_split': 10,...          0.826391   \n",
      "28  {'n_estimators': 1000, 'min_samples_split': 5,...          0.996667   \n",
      "29  {'n_estimators': 1000, 'min_samples_split': 2,...          1.000000   \n",
      "30  {'n_estimators': 500, 'min_samples_split': 2, ...          1.000000   \n",
      "31  {'n_estimators': 1000, 'min_samples_split': 2,...          1.000000   \n",
      "32  {'n_estimators': 500, 'min_samples_split': 10,...          0.972678   \n",
      "33  {'n_estimators': 500, 'min_samples_split': 2, ...          0.865413   \n",
      "34  {'n_estimators': 500, 'min_samples_split': 10,...          0.865413   \n",
      "35  {'n_estimators': 500, 'min_samples_split': 5, ...          1.000000   \n",
      "36  {'n_estimators': 1000, 'min_samples_split': 5,...          1.000000   \n",
      "37  {'n_estimators': 1000, 'min_samples_split': 5,...          0.996667   \n",
      "38  {'n_estimators': 500, 'min_samples_split': 10,...          0.958070   \n",
      "39  {'n_estimators': 500, 'min_samples_split': 5, ...          0.996667   \n",
      "40  {'n_estimators': 500, 'min_samples_split': 2, ...          1.000000   \n",
      "41  {'n_estimators': 500, 'min_samples_split': 10,...          0.972678   \n",
      "42  {'n_estimators': 1000, 'min_samples_split': 5,...          0.996667   \n",
      "43  {'n_estimators': 1000, 'min_samples_split': 5,...          1.000000   \n",
      "44  {'n_estimators': 500, 'min_samples_split': 2, ...          0.826391   \n",
      "45  {'n_estimators': 1000, 'min_samples_split': 10...          0.943425   \n",
      "46  {'n_estimators': 1000, 'min_samples_split': 10...          0.962151   \n",
      "47  {'n_estimators': 1000, 'min_samples_split': 2,...          0.865413   \n",
      "48  {'n_estimators': 500, 'min_samples_split': 5, ...          0.826391   \n",
      "49  {'n_estimators': 1000, 'min_samples_split': 2,...          1.000000   \n",
      "\n",
      "    mean_test_score       gap  \n",
      "0          0.618182  0.381818  \n",
      "1          0.654545  0.210868  \n",
      "2          0.654545  0.211038  \n",
      "3          0.600000  0.215820  \n",
      "4          0.600000  0.215820  \n",
      "5          0.618182  0.381818  \n",
      "6          0.636364  0.363636  \n",
      "7          0.563636  0.436364  \n",
      "8          0.600000  0.400000  \n",
      "9          0.654545  0.210868  \n",
      "10         0.600000  0.215820  \n",
      "11         0.600000  0.226391  \n",
      "12         0.600000  0.358070  \n",
      "13         0.581818  0.414848  \n",
      "14         0.654545  0.210868  \n",
      "15         0.600000  0.226391  \n",
      "16         0.636364  0.293202  \n",
      "17         0.600000  0.400000  \n",
      "18         0.636364  0.293202  \n",
      "19         0.654545  0.211038  \n",
      "20         0.600000  0.400000  \n",
      "21         0.654545  0.211038  \n",
      "22         0.581818  0.418182  \n",
      "23         0.581818  0.418182  \n",
      "24         0.600000  0.226391  \n",
      "25         0.636364  0.363636  \n",
      "26         0.600000  0.215820  \n",
      "27         0.600000  0.226391  \n",
      "28         0.600000  0.396667  \n",
      "29         0.654545  0.345455  \n",
      "30         0.618182  0.381818  \n",
      "31         0.654545  0.345455  \n",
      "32         0.618182  0.354496  \n",
      "33         0.654545  0.210868  \n",
      "34         0.654545  0.210868  \n",
      "35         0.636364  0.363636  \n",
      "36         0.618182  0.381818  \n",
      "37         0.600000  0.396667  \n",
      "38         0.600000  0.358070  \n",
      "39         0.581818  0.414848  \n",
      "40         0.581818  0.418182  \n",
      "41         0.618182  0.354496  \n",
      "42         0.600000  0.396667  \n",
      "43         0.618182  0.381818  \n",
      "44         0.600000  0.226391  \n",
      "45         0.654545  0.288880  \n",
      "46         0.636364  0.325788  \n",
      "47         0.654545  0.210868  \n",
      "48         0.600000  0.226391  \n",
      "49         0.581818  0.418182  \n",
      "Best Hyperparameters: {'n_estimators': 1000, 'min_samples_split': 5, 'min_samples_leaf': 5, 'max_features': 1.0, 'max_depth': 10}\n"
     ]
    }
   ],
   "source": [
    "param_grid = {\n",
    "    'n_estimators':      [200, 500, 1000],\n",
    "    'max_depth':         [2, 3, 4],\n",
    "    'min_samples_split': [20, 50, 100],\n",
    "    'min_samples_leaf':  [10,20, 50],\n",
    "    'max_features':      ['sqrt', 'log2', 0.3]\n",
    "}\n",
    "print(\"Starting randomized search...\")\n",
    "rand_search = RandomizedSearchCV(\n",
    "    RandomForestClassifier(\n",
    "        random_state=42,\n",
    "        oob_score=True,\n",
    "        bootstrap=True\n",
    "    ),\n",
    "    param_distributions=param_grid,\n",
    "    n_iter=50,\n",
    "    cv=TimeSeriesSplit(n_splits=5),\n",
    "    scoring='accuracy',\n",
    "    return_train_score=True,\n",
    "    n_jobs=-1,\n",
    "    random_state=42\n",
    ")\n",
    "\n",
    "rand_search.fit(X_train, y_train)\n",
    "\n",
    "results = pd.DataFrame(rand_search.cv_results_)\n",
    "results['gap'] = results['mean_train_score'] - results['mean_test_score']\n",
    "print(results[['params', 'mean_train_score', 'mean_test_score', 'gap']])\n",
    "\n",
    "best_model = rand_search.best_estimator_\n",
    "print('Best Hyperparameters:', rand_search.best_params_)\n"
   ]
  },
  {
   "cell_type": "code",
   "execution_count": 133,
   "metadata": {},
   "outputs": [
    {
     "name": "stdout",
     "output_type": "stream",
     "text": [
      "Accuracy: 0.7222222222222222\n",
      "Precision: 0.3333333333333333\n",
      "Recall: 0.25\n",
      "\n",
      "Classification Report:\n",
      "               precision    recall  f1-score   support\n",
      "\n",
      "        down       0.80      0.86      0.83        14\n",
      "          up       0.33      0.25      0.29         4\n",
      "\n",
      "    accuracy                           0.72        18\n",
      "   macro avg       0.57      0.55      0.56        18\n",
      "weighted avg       0.70      0.72      0.71        18\n",
      "\n",
      "Confusion Matrix:\n",
      " [[12  2]\n",
      " [ 3  1]]\n"
     ]
    }
   ],
   "source": [
    "y_pred = best_model.predict(X_test)\n",
    "print('Accuracy:', accuracy_score(y_test, y_pred))\n",
    "print('Precision:', precision_score(y_test, y_pred, pos_label='up'))\n",
    "print('Recall:',    recall_score(y_test, y_pred, pos_label='up'))\n",
    "print('\\nClassification Report:\\n', classification_report(y_test, y_pred))\n",
    "print('Confusion Matrix:\\n', confusion_matrix(y_test, y_pred))\n"
   ]
  },
  {
   "cell_type": "code",
   "execution_count": 134,
   "metadata": {},
   "outputs": [
    {
     "name": "stdout",
     "output_type": "stream",
     "text": [
      "Feature Importances:\n",
      " Volume                      0.282284\n",
      "date_only_dayofweek         0.195824\n",
      "Close                       0.174041\n",
      "Open                        0.155499\n",
      "date_only_day               0.054229\n",
      "Low                         0.039505\n",
      "High                        0.029359\n",
      "avg_sentiment               0.019945\n",
      "avg_sentiment_normalized    0.019340\n",
      "posts_per_day               0.016342\n",
      "date_only_month             0.011863\n",
      "date_only_year              0.001771\n",
      "dtype: float64\n",
      "\n",
      "Cross-validation accuracy: 0.6974 ± 0.1127\n"
     ]
    }
   ],
   "source": [
    "# Cell 10: Feature Importances & Cross‑Validation\n",
    "importances = pd.Series(best_model.feature_importances_, index=numeric_features)\n",
    "print(\"Feature Importances:\\n\", importances.sort_values(ascending=False))\n",
    "\n",
    "cv_scores = cross_val_score(best_model, X, y, cv=5)\n",
    "print(f\"\\nCross-validation accuracy: {cv_scores.mean():.4f} ± {cv_scores.std():.4f}\")\n"
   ]
  }
 ],
 "metadata": {
  "kernelspec": {
   "display_name": "RedditStocksV2",
   "language": "python",
   "name": "python3"
  },
  "language_info": {
   "codemirror_mode": {
    "name": "ipython",
    "version": 3
   },
   "file_extension": ".py",
   "mimetype": "text/x-python",
   "name": "python",
   "nbconvert_exporter": "python",
   "pygments_lexer": "ipython3",
   "version": "3.8.20"
  }
 },
 "nbformat": 4,
 "nbformat_minor": 2
}
